{
  "cells": [
    {
      "cell_type": "markdown",
      "metadata": {
        "id": "view-in-github",
        "colab_type": "text"
      },
      "source": [
        "<a href=\"https://colab.research.google.com/github/suibhne-ofoighil/cmplxsys530-labs/blob/main/CSCS_530_Cellular_Automata_Examples.ipynb\" target=\"_parent\"><img src=\"https://colab.research.google.com/assets/colab-badge.svg\" alt=\"Open In Colab\"/></a>"
      ]
    },
    {
      "cell_type": "code",
      "execution_count": null,
      "metadata": {
        "id": "6l4YZMWz5hoo"
      },
      "outputs": [],
      "source": [
        "import matplotlib.pyplot as plt\n",
        "import networkx as nx\n",
        "import numpy as np\n",
        "from numpy import linalg as la\n",
        "import math\n"
      ]
    },
    {
      "cell_type": "markdown",
      "metadata": {
        "id": "uOZoWJo28bFZ"
      },
      "source": [
        "### Set up cellular automata rules\n",
        "\n",
        "We'll set up a few different rules to choose from"
      ]
    },
    {
      "cell_type": "code",
      "execution_count": null,
      "metadata": {
        "colab": {
          "base_uri": "https://localhost:8080/",
          "height": 54
        },
        "id": "_nlwza9E8BvA",
        "outputId": "f6d449e7-f868-4ff5-f1be-db77f281a07c"
      },
      "outputs": [
        {
          "output_type": "execute_result",
          "data": {
            "application/vnd.google.colaboratory.intrinsic+json": {
              "type": "string"
            },
            "text/plain": [
              "'\\nneighrule = {\\n        (0,0,0):0,\\n        (0,0,1):0,\\n        (0,1,0):0,\\n        (0,1,1):1,\\n        (1,0,0):1,\\n        (1,0,1):1,\\n        (1,1,0):1,\\n        (1,1,1):1\\n        }\\n'"
            ]
          },
          "metadata": {},
          "execution_count": 2
        }
      ],
      "source": [
        "# Rule 50\n",
        "\n",
        "neighrule = {\n",
        "        (0,0,0):0,\n",
        "        (0,0,1):1,\n",
        "        (0,1,0):0,\n",
        "        (0,1,1):0,\n",
        "        (1,0,0):1,\n",
        "        (1,0,1):1,\n",
        "        (1,1,0):0,\n",
        "        (1,1,1):0\n",
        "        }\n",
        "\n",
        "\n",
        "# Rule 13\n",
        "'''\n",
        "neighrule = {\n",
        "        (0,0,0):1,\n",
        "        (0,0,1):0,\n",
        "        (0,1,0):1,\n",
        "        (0,1,1):1,\n",
        "        (1,0,0):0,\n",
        "        (1,0,1):0,\n",
        "        (1,1,0):0,\n",
        "        (1,1,1):0\n",
        "        }\n",
        "'''\n",
        "\n",
        "# Rule 30\n",
        "'''\n",
        "neighrule = {\n",
        "        (0,0,0):0,\n",
        "        (0,0,1):1,\n",
        "        (0,1,0):1,\n",
        "        (0,1,1):1,\n",
        "        (1,0,0):1,\n",
        "        (1,0,1):0,\n",
        "        (1,1,0):0,\n",
        "        (1,1,1):0\n",
        "        }\n",
        "'''\n",
        "\n",
        "# Rule 184 (Majority rule not counting self, with ties awarded to 1)\n",
        "'''\n",
        "neighrule = {\n",
        "        (0,0,0):0,\n",
        "        (0,0,1):0,\n",
        "        (0,1,0):0,\n",
        "        (0,1,1):1,\n",
        "        (1,0,0):1,\n",
        "        (1,0,1):1,\n",
        "        (1,1,0):1,\n",
        "        (1,1,1):1\n",
        "        }\n",
        "'''"
      ]
    },
    {
      "cell_type": "markdown",
      "metadata": {
        "id": "VVst1z109Jhg"
      },
      "source": [
        "### Set up parameters to run the cellular automata"
      ]
    },
    {
      "cell_type": "code",
      "execution_count": null,
      "metadata": {
        "id": "z4CQHYnj8xCl"
      },
      "outputs": [],
      "source": [
        "initialcond = [0,0,0,1,0,1,0,1,1,1] # for testing\n",
        "L = 5  #9 #10   # Grid size (start with something small)"
      ]
    },
    {
      "cell_type": "markdown",
      "metadata": {
        "id": "u0vsiJvb9R2A"
      },
      "source": [
        "### Useful functions for running the model\n",
        "\n",
        "We'll start with two functions to convert between decimal integers and binary model configurations"
      ]
    },
    {
      "cell_type": "code",
      "execution_count": null,
      "metadata": {
        "id": "kaR9_sYv9RGa"
      },
      "outputs": [],
      "source": [
        "# Takes a configuration and returns the corresponding integer\n",
        "def config2int(config):\n",
        "    return int(''.join(map(str, config)),2) #maps the config->strings, joins them, and then converts to int from binary\n",
        "\n",
        "# Takes an integer and converts it to a configuration (list of cell states)\n",
        "def int2config(x):\n",
        "    return [1 if x & 2**i > 0 else 0 for i in range(L - 1, -1, -1)]"
      ]
    },
    {
      "cell_type": "markdown",
      "metadata": {
        "id": "fKrjAEMu99xx"
      },
      "source": [
        "Next, a function to run the model--take the current configuration and map to next timestep"
      ]
    },
    {
      "cell_type": "code",
      "execution_count": null,
      "metadata": {
        "id": "VBS7fZIs9_pu"
      },
      "outputs": [],
      "source": [
        "def update(config):\n",
        "    nextconfig = [0]*L\n",
        "    for x in range(L):\n",
        "        nextconfig[x] = neighrule[(config[(x - 1) % L],config[x],config[(x + 1) % L])]\n",
        "    return nextconfig"
      ]
    },
    {
      "cell_type": "markdown",
      "metadata": {
        "id": "N6rWHCG7_F0b"
      },
      "source": [
        "### Run the model \n",
        "\n",
        "Run the model from our set initial conditions and plot the results"
      ]
    },
    {
      "cell_type": "code",
      "execution_count": null,
      "metadata": {
        "colab": {
          "base_uri": "https://localhost:8080/",
          "height": 282
        },
        "id": "ohn4QSMk_qq8",
        "outputId": "46b077af-4e07-4c1b-986a-a4d08b2907d5"
      },
      "outputs": [
        {
          "output_type": "execute_result",
          "data": {
            "text/plain": [
              "<matplotlib.image.AxesImage at 0x7fbf1e297f90>"
            ]
          },
          "metadata": {},
          "execution_count": 6
        },
        {
          "output_type": "display_data",
          "data": {
            "image/png": "[encoded data removed]",
            "text/plain": [
              "<Figure size 432x288 with 1 Axes>"
            ]
          },
          "metadata": {
            "needs_background": "light"
          }
        }
      ],
      "source": [
        "# Run the model for a few steps and plot\n",
        "steps = 20\n",
        "output = np.zeros([steps,L])\n",
        "output[0,:] = int2config(6)\n",
        "for i in range(1,steps):\n",
        "    output[i,:] = update(output[i-1,:])\n",
        "plt.cla()\n",
        "plt.imshow(output)"
      ]
    },
    {
      "cell_type": "markdown",
      "metadata": {
        "id": "l61GXCHv-MK9"
      },
      "source": [
        "### Map out phase space!\n",
        "\n",
        "We'll run the cellular automata model for every possible starting  configuration and add an edge linking each initial condition to where it goes next. Note there are $2^L$ total possible initial conditions."
      ]
    },
    {
      "cell_type": "code",
      "execution_count": null,
      "metadata": {
        "id": "4__M6GC2-HA-"
      },
      "outputs": [],
      "source": [
        "g = nx.DiGraph() # Make an empty graph that will be the phase space\n",
        "\n",
        "for x in range(2**L):\n",
        "    g.add_edge(x, config2int(update(int2config(x))))"
      ]
    },
    {
      "cell_type": "code",
      "execution_count": null,
      "metadata": {
        "colab": {
          "base_uri": "https://localhost:8080/",
          "height": 248
        },
        "id": "YE2464xECPgH",
        "outputId": "adbb33a6-41d8-458d-d6df-3527a8c24ca9"
      },
      "outputs": [
        {
          "output_type": "display_data",
          "data": {
            "image/png": "[encoded data removed]",
            "text/plain": [
              "<Figure size 432x288 with 6 Axes>"
            ]
          },
          "metadata": {}
        }
      ],
      "source": [
        "# Plot each connected component of the phase space\n",
        "ccs = [cc for cc in nx.connected_components(g.to_undirected())]\n",
        "n = len(ccs)\n",
        "w = math.ceil(math.sqrt(n))\n",
        "h = math.ceil(n / w)\n",
        "for i in range(n):\n",
        "    plt.subplot(h, w, i + 1)\n",
        "    nx.draw_networkx(nx.subgraph(g, ccs[i]), with_labels = True)\n",
        "\n",
        "# Suplots are sometimes too packed, so also useful to just draw a few individually\n",
        "#nx.draw_networkx(nx.subgraph(g, ccs[1]), with_labels = True)"
      ]
    },
    {
      "cell_type": "markdown",
      "metadata": {
        "id": "pPB8kqTHDI7e"
      },
      "source": [
        "### Analyzing the phase space\n",
        "\n",
        "##### Highlight an attracting sub-component\n",
        "\n",
        "We can highlight those nodes that form an attracting subcomponent within the network (i.e. the set of nodes for which once we have entered that set we will not exit the set---potentially this is the whole subcomponent!)."
      ]
    },
    {
      "cell_type": "code",
      "execution_count": null,
      "metadata": {
        "colab": {
          "base_uri": "https://localhost:8080/",
          "height": 350
        },
        "id": "uJidRV9ECwKj",
        "outputId": "90997a4d-d303-425c-cb54-33448e5ddc88"
      },
      "outputs": [
        {
          "output_type": "execute_result",
          "data": {
            "text/plain": [
              "{3: Text(-0.1867257971984313, 0.2703729886255774, '3'),\n",
              " 8: Text(0.1813656776619109, -0.5437903189725425, '8'),\n",
              " 11: Text(1.0, 0.2489527775192935, '11'),\n",
              " 20: Text(0.3983076257314257, 0.10852944848520102, '20'),\n",
              " 23: Text(-0.7415117705830025, -0.8500737668538864, '23'),\n",
              " 28: Text(-0.6514357356119039, 0.7660088711963571, '28')}"
            ]
          },
          "metadata": {},
          "execution_count": 9
        },
        {
          "output_type": "display_data",
          "data": {
            "image/png": "[encoded data removed]",
            "text/plain": [
              "<Figure size 432x288 with 1 Axes>"
            ]
          },
          "metadata": {}
        }
      ],
      "source": [
        "subg = nx.subgraph(g, ccs[3])\n",
        "attr = set().union(*nx.attracting_components(subg))\n",
        "\n",
        "pos=nx.spring_layout(subg) # positions for all nodes\n",
        "nx.draw_networkx_nodes(subg,pos, nodelist = (set(subg.nodes()) - attr), node_color='#00b4e9', node_size=500, alpha=0.8)\n",
        "nx.draw_networkx_nodes(subg, pos, nodelist = attr, node_color='r', node_size=500, alpha=0.8)\n",
        "nx.draw_networkx_edges(subg,pos,width=2.0)\n",
        "nx.draw_networkx_labels(subg,pos)"
      ]
    },
    {
      "cell_type": "markdown",
      "metadata": {
        "id": "sdke8LC4EfTt"
      },
      "source": [
        "##### Check whether there are any cycles (oscillations) in this component"
      ]
    },
    {
      "cell_type": "code",
      "execution_count": null,
      "metadata": {
        "colab": {
          "base_uri": "https://localhost:8080/"
        },
        "id": "AtTxMsLtD7mw",
        "outputId": "b3bdd19d-732d-4981-fe39-343b890c0f7c"
      },
      "outputs": [
        {
          "output_type": "execute_result",
          "data": {
            "text/plain": [
              "[[18, 13]]"
            ]
          },
          "metadata": {},
          "execution_count": 10
        }
      ],
      "source": [
        "# Check if cycles\n",
        "list(nx.simple_cycles(nx.subgraph(g,ccs[1])))"
      ]
    },
    {
      "cell_type": "markdown",
      "metadata": {
        "id": "R18lr-ZOE1go"
      },
      "source": [
        "##### Highlight network centrality\n",
        "\n",
        "In this example, we've used degree centrality"
      ]
    },
    {
      "cell_type": "code",
      "execution_count": null,
      "metadata": {
        "colab": {
          "base_uri": "https://localhost:8080/",
          "height": 350
        },
        "id": "u7ZoqdWcEnV2",
        "outputId": "6c95fd2a-0967-4f4d-cf61-8a83c4a177d7"
      },
      "outputs": [
        {
          "output_type": "execute_result",
          "data": {
            "text/plain": [
              "{3: Text(-0.1867257971984313, 0.2703729886255774, '3'),\n",
              " 8: Text(0.1813656776619109, -0.5437903189725425, '8'),\n",
              " 11: Text(1.0, 0.2489527775192935, '11'),\n",
              " 20: Text(0.3983076257314257, 0.10852944848520102, '20'),\n",
              " 23: Text(-0.7415117705830025, -0.8500737668538864, '23'),\n",
              " 28: Text(-0.6514357356119039, 0.7660088711963571, '28')}"
            ]
          },
          "metadata": {},
          "execution_count": 11
        },
        {
          "output_type": "display_data",
          "data": {
            "image/png": "[encoded data removed]",
            "text/plain": [
              "<Figure size 432x288 with 1 Axes>"
            ]
          },
          "metadata": {}
        }
      ],
      "source": [
        "nx.draw_networkx_nodes(subg, pos, node_color=list(nx.degree_centrality(subg).values()), node_size=500, alpha=0.8)\n",
        "nx.draw_networkx_edges(subg,pos,width=2.0)\n",
        "nx.draw_networkx_labels(subg,pos)\n"
      ]
    },
    {
      "cell_type": "code",
      "execution_count": null,
      "metadata": {
        "id": "2-3FYqA8Ey4q"
      },
      "outputs": [],
      "source": [
        ""
      ]
    }
  ],
  "metadata": {
    "colab": {
      "name": "CSCS 530 - Cellular Automata Examples.ipynb",
      "provenance": [],
      "include_colab_link": true
    },
    "kernelspec": {
      "display_name": "Python 3",
      "name": "python3"
    },
    "language_info": {
      "name": "python"
    }
  },
  "nbformat": 4,
  "nbformat_minor": 0
}